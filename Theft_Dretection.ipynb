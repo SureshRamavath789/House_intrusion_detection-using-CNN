{
 "cells": [
  {
   "cell_type": "code",
   "execution_count": 1,
   "id": "de133108",
   "metadata": {},
   "outputs": [
    {
     "name": "stdout",
     "output_type": "stream",
     "text": [
      "{'innocent': 0, 'intruder': 1}\n",
      "['innocent', 'intruder']\n",
      "[0, 1]\n"
     ]
    }
   ],
   "source": [
    "import cv2,os\n",
    "data_path=r\"C:\\Users\\LEN\\Downloads\\dataset\"\n",
    "categories=os.listdir(data_path)\n",
    "labels=[i for i in range(len(categories))]\n",
    "\n",
    "label_dict=dict(zip(categories,labels))\n",
    "\n",
    "print(label_dict)\n",
    "print(categories)\n",
    "print(labels)\n"
   ]
  },
  {
   "cell_type": "code",
   "execution_count": 2,
   "id": "30593a66",
   "metadata": {},
   "outputs": [],
   "source": [
    "img_size=100\n",
    "data=[]\n",
    "target=[]\n",
    "\n",
    "\n",
    "for category in categories:\n",
    "    folder_path=os.path.join(data_path,category)\n",
    "    img_names=os.listdir(folder_path)\n",
    "        \n",
    "    for img_name in img_names:\n",
    "        img_path=os.path.join(folder_path,img_name)\n",
    "        img=cv2.imread(img_path)\n",
    "\n",
    "        try:\n",
    "            gray=cv2.cvtColor(img,cv2.COLOR_BGR2GRAY)           \n",
    "           \n",
    "            resized=cv2.resize(gray,(img_size,img_size))\n",
    "            \n",
    "            data.append(resized)\n",
    "            target.append(label_dict[category])\n",
    "            \n",
    "\n",
    "        except Exception as e:\n",
    "            print('Exception:',e)\n",
    "           "
   ]
  },
  {
   "cell_type": "code",
   "execution_count": 3,
   "id": "8acdcb02",
   "metadata": {},
   "outputs": [],
   "source": [
    "import numpy as np\n",
    "data=np.array(data)/255.0\n",
    "data=np.reshape(data,(data.shape[0],img_size,img_size,1))\n",
    "target=np.array(target)\n",
    "from keras.utils import np_utils\n",
    "new_target=np_utils.to_categorical(target)"
   ]
  },
  {
   "cell_type": "code",
   "execution_count": 4,
   "id": "4abdae56",
   "metadata": {},
   "outputs": [],
   "source": [
    "from sklearn.model_selection import train_test_split"
   ]
  },
  {
   "cell_type": "code",
   "execution_count": 5,
   "id": "564b4309",
   "metadata": {},
   "outputs": [],
   "source": [
    "X_train,X_test,Y_train,Y_test = train_test_split(data,new_target,test_size=0.1)"
   ]
  },
  {
   "cell_type": "code",
   "execution_count": 6,
   "id": "eb3aa06f",
   "metadata": {},
   "outputs": [
    {
     "data": {
      "text/plain": [
       "((8998, 100, 100, 1), (1000, 100, 100, 1), (8998, 2), (1000, 2))"
      ]
     },
     "execution_count": 6,
     "metadata": {},
     "output_type": "execute_result"
    }
   ],
   "source": [
    "X_train.shape,X_test.shape,Y_train.shape,Y_test.shape"
   ]
  },
  {
   "cell_type": "code",
   "execution_count": 7,
   "id": "36009877",
   "metadata": {},
   "outputs": [],
   "source": [
    "np.save(r\"C:\\Users\\LEN\\Downloads\\New_data\",data)\n",
    "np.save(r\"C:\\Users\\LEN\\Downloads\\New_target\",new_target)"
   ]
  },
  {
   "cell_type": "code",
   "execution_count": 8,
   "id": "51d06192",
   "metadata": {},
   "outputs": [],
   "source": [
    "import numpy as np\n",
    "data=np.load(r\"C:\\Users\\LEN\\Downloads\\New_data.npy\")\n",
    "new_target=np.load(r\"C:\\Users\\LEN\\Downloads\\New_target.npy\")"
   ]
  },
  {
   "cell_type": "code",
   "execution_count": 9,
   "id": "5850dcf9",
   "metadata": {},
   "outputs": [],
   "source": [
    "from keras.models import Sequential\n",
    "from keras.layers import Dense,Activation,Flatten,Dropout\n",
    "from keras.layers import Conv2D,MaxPooling2D\n",
    "from keras.callbacks import ModelCheckpoint\n",
    "\n",
    "model=Sequential()\n",
    "\n",
    "model.add(Conv2D(200,(3,3),input_shape=data.shape[1:]))\n",
    "model.add(Activation('relu'))\n",
    "model.add(MaxPooling2D(pool_size=(2,2)))\n",
    "#The first CNN layer followed by Relu and MaxPooling layers\n",
    "\n",
    "model.add(Conv2D(100,(3,3)))\n",
    "model.add(Activation('relu'))\n",
    "model.add(MaxPooling2D(pool_size=(2,2)))\n",
    "#The second convolution layer followed by Relu and MaxPooling layers\n",
    "\n",
    "model.add(Flatten())\n",
    "model.add(Dropout(0.5))\n",
    "#Flatten layer to stack the output convolutions from second convolution layer\n",
    "model.add(Dense(50,activation='relu'))\n",
    "#Dense layer of 64 neurons\n",
    "model.add(Dense(2,activation='softmax'))\n",
    "#The Final layer with two outputs for two categories\n",
    "\n",
    "model.compile(loss='categorical_crossentropy',optimizer='adam',metrics=['accuracy'])"
   ]
  },
  {
   "cell_type": "code",
   "execution_count": 10,
   "id": "fc917a2b",
   "metadata": {},
   "outputs": [
    {
     "name": "stdout",
     "output_type": "stream",
     "text": [
      "Epoch 1/2\n",
      "225/225 [==============================] - 295s 1s/step - loss: 0.2610 - accuracy: 0.8845 - val_loss: 0.0128 - val_accuracy: 0.9983\n",
      "INFO:tensorflow:Assets written to: best one\\assets\n",
      "Epoch 2/2\n",
      "225/225 [==============================] - 289s 1s/step - loss: 0.0065 - accuracy: 0.9990 - val_loss: 0.0065 - val_accuracy: 0.9983\n",
      "INFO:tensorflow:Assets written to: best one\\assets\n"
     ]
    }
   ],
   "source": [
    "checkpoint = ModelCheckpoint('best one',monitor='val_loss',verbose=0,save_best_only=True,mode='auto')\n",
    "history=model.fit(X_train,Y_train,epochs=2,callbacks=[checkpoint],validation_split=0.2)"
   ]
  },
  {
   "cell_type": "code",
   "execution_count": 11,
   "id": "1fcc0c17",
   "metadata": {},
   "outputs": [],
   "source": [
    "model.save(r\"C:\\Users\\LEN\\Downloads\\Model.h5\")"
   ]
  },
  {
   "cell_type": "code",
   "execution_count": 12,
   "id": "c50102af",
   "metadata": {},
   "outputs": [
    {
     "name": "stdout",
     "output_type": "stream",
     "text": [
      "pygame 2.0.1 (SDL 2.0.14, Python 3.8.8)\n",
      "Hello from the pygame community. https://www.pygame.org/contribute.html\n"
     ]
    }
   ],
   "source": [
    "from keras.models import load_model\n",
    "import cv2\n",
    "import numpy as np\n",
    "from pygame import mixer\n",
    "import os\n",
    "import smtplib\n",
    "from email.mime.text import MIMEText\n",
    "from email.mime.multipart import MIMEMultipart\n",
    "from email.mime.base import MIMEBase\n",
    "from email import encoders"
   ]
  },
  {
   "cell_type": "code",
   "execution_count": 13,
   "id": "ddf0092a",
   "metadata": {},
   "outputs": [],
   "source": [
    "mixer.init()\n",
    "sound = mixer.Sound(r\"C:\\Users\\LEN\\Downloads\\FaceMask_detection_alarm.wav\")\n",
    "\n",
    "\n",
    "\n",
    "model = load_model(r\"C:\\Users\\LEN\\Downloads\\Model.h5\")\n",
    "\n",
    "face_clsfr = cv2.CascadeClassifier(r\"C:\\Users\\LEN\\Downloads\\haarcascade_frontalface_default.xml\")"
   ]
  },
  {
   "cell_type": "code",
   "execution_count": 22,
   "id": "50d13491",
   "metadata": {},
   "outputs": [],
   "source": [
    "cap = cv2.VideoCapture(0)\n",
    "\n",
    "labels_dict = {1: 'innocent', 0: 'intruder'}\n",
    "color_dict = {0: (0, 0, 255), 1: (0, 255, 0)}\n",
    "\n",
    "\n",
    "while (True):\n",
    "\n",
    "    ret, frame = cap.read()\n",
    "    gray = cv2.cvtColor(frame, cv2.COLOR_BGR2GRAY)\n",
    "    faces = face_clsfr.detectMultiScale(gray, 1.3, 5)\n",
    "\n",
    "    for (x, y, w, h) in faces:\n",
    "\n",
    "        face_img = gray[y:y + w, x:x + w]\n",
    "        resized = cv2.resize(face_img, (100, 100))\n",
    "        normalized = resized / 255.0\n",
    "        reshaped = np.reshape(normalized, (1, 100, 100, 1))\n",
    "        result = model.predict(reshaped)\n",
    "\n",
    "        label = np.argmax(result, axis=1)[0]\n",
    "\n",
    "        cv2.rectangle(frame, (x, y), (x + w, y + h), color_dict[label], 4)\n",
    "        cv2.rectangle(frame, (x, y - 40), (x + w, y), color_dict[label], 4)\n",
    "        cv2.putText(frame, labels_dict[label], (x, y - 10), cv2.FONT_ITALIC, 1, (255, 255, 255), 4)\n",
    "        \n",
    "        if(label==0):\n",
    "            sound.play()\n",
    "            crop_img = frame[y: y + h, x: x + w]\n",
    "            cv2.imwrite(r\"C:\\Users\\LEN\\Downloads\\face.jpg\", crop_img)\n",
    "            \n",
    "\n",
    "\n",
    "            email_user='funnybro017@gmail.com'\n",
    "            email_send='funnybro017@gmail.com'\n",
    "            subject='Alert'\n",
    "\n",
    "            msg=MIMEMultipart()\n",
    "            msg['From']=email_user\n",
    "            msg['To']=email_send\n",
    "            msg['Subject']=subject\n",
    "\n",
    "            body='Some one entered your house please be alert and please check the attachment  of the person'\n",
    "            msg.attach(MIMEText(body,'plain'))\n",
    "\n",
    "            filename=r\"C:\\Users\\LEN\\Downloads\\face.jpg\"\n",
    "            attachment=open(filename,'rb')\n",
    "\n",
    "            part=MIMEBase('application','octet-stream')\n",
    "            part.set_payload((attachment).read())\n",
    "            encoders.encode_base64(part)\n",
    "            part.add_header('Content-Disposition',\"attachment;filename= \"+filename)\n",
    "\n",
    "            msg.attach(part)\n",
    "            text=msg.as_string()\n",
    "            server=smtplib.SMTP('smtp.gmail.com',587)\n",
    "            server.starttls()\n",
    "            server.login(email_user,'9390148262')\n",
    "            server.sendmail(email_user,email_send,text)\n",
    "            server.quit()\n",
    "\n",
    "        else:\n",
    "            pass\n",
    "            break\n",
    "\n",
    "    cv2.imshow('Theft Detection ', frame)\n",
    "    if cv2.waitKey(1) & 0xFF == ord('q'):\n",
    "        break\n",
    "cap.release()\n",
    "cv2.destroyAllWindows()\n"
   ]
  },
  {
   "cell_type": "code",
   "execution_count": null,
   "id": "b87c9336",
   "metadata": {},
   "outputs": [],
   "source": []
  }
 ],
 "metadata": {
  "kernelspec": {
   "display_name": "Python 3",
   "language": "python",
   "name": "python3"
  },
  "language_info": {
   "codemirror_mode": {
    "name": "ipython",
    "version": 3
   },
   "file_extension": ".py",
   "mimetype": "text/x-python",
   "name": "python",
   "nbconvert_exporter": "python",
   "pygments_lexer": "ipython3",
   "version": "3.8.8"
  }
 },
 "nbformat": 4,
 "nbformat_minor": 5
}
